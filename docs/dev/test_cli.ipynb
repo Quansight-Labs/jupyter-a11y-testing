{
 "cells": [
  {
   "cell_type": "markdown",
   "metadata": {},
   "source": [
    "# a build chain for `jupyter` auditing "
   ]
  },
  {
   "cell_type": "markdown",
   "metadata": {},
   "source": [
    "in the section below, we go from nothing to build jupyter products to accessibility tests.\n",
    "we walk through these commands and their role. at the end, we explore test results as pandas dataframes."
   ]
  },
  {
   "cell_type": "code",
   "execution_count": null,
   "metadata": {},
   "outputs": [],
   "source": [
    "    !python -m jupyter_accessibility -h"
   ]
  },
  {
   "cell_type": "markdown",
   "metadata": {},
   "source": [
    "* build an environment for this specific jupyter product"
   ]
  },
  {
   "cell_type": "code",
   "execution_count": null,
   "metadata": {},
   "outputs": [],
   "source": [
    "    !python -m jupyter_accessibility -i jupyterlab -d jupyter-a11y-test-standard -- env"
   ]
  },
  {
   "cell_type": "markdown",
   "metadata": {},
   "source": [
    "* after the base environment we need to add project specific dependencies using the `setup` task"
   ]
  },
  {
   "cell_type": "code",
   "execution_count": null,
   "metadata": {},
   "outputs": [],
   "source": [
    "    !python -m jupyter_accessibility -i jupyterlab -d jupyter-a11y-test-standard -- setup"
   ]
  },
  {
   "cell_type": "markdown",
   "metadata": {},
   "source": [
    "* the `test_setup` task adds dependencies to test the jupyter assets. it does not test anything."
   ]
  },
  {
   "cell_type": "code",
   "execution_count": null,
   "metadata": {},
   "outputs": [],
   "source": [
    "    !python -m jupyter_accessibility -i jupyterlab -d jupyter-a11y-test-standard -- test_setup"
   ]
  },
  {
   "cell_type": "markdown",
   "metadata": {},
   "source": [
    "* actually test the build resources."
   ]
  },
  {
   "cell_type": "code",
   "execution_count": null,
   "metadata": {},
   "outputs": [],
   "source": [
    "    !python -m jupyter_accessibility -i jupyterlab -d jupyter-a11y-test-standard -- test"
   ]
  },
  {
   "cell_type": "markdown",
   "metadata": {},
   "source": [
    "### axe tests results in pandas\n",
    "\n",
    "after running the commands to run the jupyter tests, we can use the `jupyter_accessibility` module to explore the results in pandas."
   ]
  },
  {
   "cell_type": "code",
   "execution_count": null,
   "metadata": {},
   "outputs": [],
   "source": [
    "    from jupyter_accessibility import Main\n",
    "    from pathlib import Path"
   ]
  },
  {
   "cell_type": "code",
   "execution_count": null,
   "metadata": {},
   "outputs": [],
   "source": [
    "    main = Main(dir=Path(\"jupyter-a11y-test-standard\"),ids=[\"jupyterlab\"])"
   ]
  },
  {
   "cell_type": "code",
   "execution_count": null,
   "metadata": {},
   "outputs": [],
   "source": [
    "main.project.axe_results()\n"
   ]
  },
  {
   "cell_type": "markdown",
   "metadata": {},
   "source": [
    "## `playwright` test results\n",
    "\n",
    "we can also dig into the playwright test outputs. currently they lack granularity, but that is an affordance we could consider later."
   ]
  },
  {
   "cell_type": "code",
   "execution_count": null,
   "metadata": {},
   "outputs": [],
   "source": [
    "import pandas\n"
   ]
  },
  {
   "cell_type": "code",
   "execution_count": null,
   "metadata": {},
   "outputs": [],
   "source": [
    "results = pandas.read_json(\n",
    "    main.project.test_results.parent / \"main-test-results.json\", typ=pandas.Series\n",
    ")\n",
    "results\n"
   ]
  },
  {
   "cell_type": "code",
   "execution_count": null,
   "metadata": {},
   "outputs": [],
   "source": [
    "suites = pandas.DataFrame(results.suites)\n",
    "suites\n"
   ]
  },
  {
   "cell_type": "code",
   "execution_count": null,
   "metadata": {},
   "outputs": [],
   "source": [
    "checks = suites.suites.apply(pandas.Series).stack().apply(pandas.Series)\n",
    "checks\n"
   ]
  },
  {
   "cell_type": "code",
   "execution_count": null,
   "metadata": {},
   "outputs": [],
   "source": [
    "tests = checks.specs.apply(pandas.Series).stack().apply(pandas.Series)\n",
    "tests\n"
   ]
  },
  {
   "cell_type": "code",
   "execution_count": null,
   "metadata": {},
   "outputs": [],
   "source": [
    "results = tests.tests.apply(pandas.Series).stack().apply(pandas.Series)\n",
    "results\n"
   ]
  },
  {
   "cell_type": "code",
   "execution_count": null,
   "metadata": {},
   "outputs": [],
   "source": [
    "results.results.apply(pandas.Series).stack().apply(pandas.Series)\n"
   ]
  },
  {
   "cell_type": "markdown",
   "metadata": {},
   "source": []
  },
  {
   "cell_type": "markdown",
   "metadata": {},
   "source": [
    "## about `jupyter_accessibility` architecture\n",
    "\n",
    "the implementation is designed as a command line interface and interface computing object. this dual purpose lets us simulate command line behaviors in interactive sessions like a `notebook`."
   ]
  },
  {
   "cell_type": "code",
   "execution_count": null,
   "metadata": {},
   "outputs": [],
   "source": [
    "!pyreverse -kosvg -pjupyter_accessibility jupyter_accessibility\n",
    "from IPython.display import SVG\n",
    "SVG(filename=\"classes_jupyter_accessibility.svg\")"
   ]
  }
 ],
 "metadata": {
  "interpreter": {
   "hash": "fe3da9b82b3647283ed4a64afb514c08b1aa39774194ba3fa7469a9333d7260c"
  },
  "kernelspec": {
   "display_name": "Python 3 (ipykernel)",
   "language": "python",
   "name": "python3"
  },
  "language_info": {
   "codemirror_mode": {
    "name": "ipython",
    "version": 3
   },
   "file_extension": ".py",
   "mimetype": "text/x-python",
   "name": "python",
   "nbconvert_exporter": "python",
   "pygments_lexer": "ipython3",
   "version": "3.9.10"
  }
 },
 "nbformat": 4,
 "nbformat_minor": 4
}
